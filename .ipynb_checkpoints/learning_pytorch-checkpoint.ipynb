{
 "cells": [
  {
   "cell_type": "code",
   "execution_count": 2,
   "id": "9dce5123-e67f-4a5d-aff8-e581e0d59f06",
   "metadata": {
    "tags": []
   },
   "outputs": [],
   "source": [
    "# Imports\n",
    "import numpy as np\n",
    "\n",
    "import torch"
   ]
  },
  {
   "cell_type": "code",
   "execution_count": 3,
   "id": "a533ce0c-c766-4013-9a28-6e42bde5056e",
   "metadata": {
    "tags": []
   },
   "outputs": [
    {
     "name": "stdout",
     "output_type": "stream",
     "text": [
      "Package                       Version\n",
      "----------------------------- -----------------\n",
      "accelerate                    0.19.0\n",
      "apex                          0.1\n",
      "asttokens                     2.2.1\n",
      "attrs                         22.2.0\n",
      "awscli                        1.27.132\n",
      "backcall                      0.2.0\n",
      "backports.functools-lru-cache 1.6.4\n",
      "bcrypt                        4.0.1\n",
      "blis                          0.7.9\n",
      "bokeh                         3.1.1\n",
      "boto3                         1.26.132\n",
      "botocore                      1.29.132\n",
      "brotlipy                      0.7.0\n",
      "cached-property               1.5.2\n",
      "catalogue                     2.0.8\n",
      "certifi                       2023.5.7\n",
      "cffi                          1.15.1\n",
      "charset-normalizer            3.1.0\n",
      "click                         8.1.3\n",
      "cloudpickle                   2.2.1\n",
      "cmake                         3.26.3\n",
      "colorama                      0.4.4\n",
      "comm                          0.1.3\n",
      "commonmark                    0.9.1\n",
      "conda                         23.1.0\n",
      "conda-content-trust           0.1.3\n",
      "conda-package-handling        2.0.2\n",
      "conda_package_streaming       0.7.0\n",
      "confection                    0.0.4\n",
      "contextlib2                   21.6.0\n",
      "contourpy                     1.0.7\n",
      "cryptography                  40.0.1\n",
      "cycler                        0.11.0\n",
      "cymem                         2.0.7\n",
      "Cython                        0.29.34\n",
      "debugpy                       1.6.7\n",
      "decorator                     5.1.1\n",
      "deepspeed                     0.6.1+1ea3d4b\n",
      "dgl                           1.1.0+cu118\n",
      "dill                          0.3.6\n",
      "docutils                      0.15.2\n",
      "einops                        0.6.1\n",
      "executing                     1.2.0\n",
      "fastai                        2.7.12\n",
      "fastcore                      1.5.29\n",
      "fastdownload                  0.0.7\n",
      "fastprogress                  1.0.3\n",
      "filelock                      3.12.0\n",
      "flash-attn                    0.2.8\n",
      "fonttools                     4.39.4\n",
      "fsspec                        2023.5.0\n",
      "future                        0.18.3\n",
      "gevent                        22.10.2\n",
      "gmpy2                         2.1.2\n",
      "google-pasta                  0.2.0\n",
      "greenlet                      2.0.2\n",
      "h5py                          3.8.0\n",
      "hjson                         3.1.0\n",
      "horovod                       0.26.1\n",
      "idna                          3.4\n",
      "imageio                       2.28.1\n",
      "importlib-metadata            4.13.0\n",
      "inotify-simple                1.2.1\n",
      "ipykernel                     6.23.0\n",
      "ipython                       8.13.2\n",
      "jedi                          0.18.2\n",
      "Jinja2                        3.1.2\n",
      "jmespath                      1.0.1\n",
      "joblib                        1.2.0\n",
      "jsonpatch                     1.32\n",
      "jsonpointer                   2.3\n",
      "jsonschema                    4.17.3\n",
      "jupyter_client                8.2.0\n",
      "jupyter_core                  5.3.0\n",
      "kiwisolver                    1.4.4\n",
      "langcodes                     3.3.0\n",
      "libmambapy                    1.4.1\n",
      "lit                           16.0.3\n",
      "llvmlite                      0.39.1\n",
      "mamba                         1.4.1\n",
      "MarkupSafe                    2.1.2\n",
      "matplotlib                    3.7.1\n",
      "matplotlib-inline             0.1.6\n",
      "mpi4py                        3.1.4\n",
      "mpmath                        1.3.0\n",
      "multiprocess                  0.70.14\n",
      "munkres                       1.1.4\n",
      "murmurhash                    1.0.9\n",
      "nest-asyncio                  1.5.6\n",
      "networkx                      3.1\n",
      "ninja                         1.11.1\n",
      "numba                         0.56.4\n",
      "numpy                         1.23.5\n",
      "opencv-python                 4.7.0\n",
      "packaging                     23.1\n",
      "pandas                        2.0.1\n",
      "paramiko                      3.1.0\n",
      "parso                         0.8.3\n",
      "pathos                        0.3.0\n",
      "pathy                         0.10.1\n",
      "patsy                         0.5.3\n",
      "pexpect                       4.8.0\n",
      "pickleshare                   0.7.5\n",
      "Pillow                        9.4.0\n",
      "pip                           23.1.2\n",
      "platformdirs                  3.5.0\n",
      "plotly                        5.14.1\n",
      "pluggy                        1.0.0\n",
      "ply                           3.11\n",
      "pooch                         1.7.0\n",
      "pox                           0.3.2\n",
      "ppft                          1.7.6.6\n",
      "preshed                       3.0.8\n",
      "prompt-toolkit                3.0.38\n",
      "protobuf                      3.20.3\n",
      "protobuf3-to-dict             0.1.5\n",
      "psutil                        5.9.5\n",
      "ptyprocess                    0.7.0\n",
      "pure-eval                     0.2.2\n",
      "py-cpuinfo                    9.0.0\n",
      "pyarrow                       12.0.0\n",
      "pyasn1                        0.4.8\n",
      "pybind11                      2.10.4\n",
      "pybind11-global               2.10.4\n",
      "pycosat                       0.6.4\n",
      "pycparser                     2.21\n",
      "pydantic                      1.10.7\n",
      "pyfunctional                  1.4.3\n",
      "Pygments                      2.15.1\n",
      "pyinstrument                  3.4.2\n",
      "pyinstrument-cext             0.2.4\n",
      "PyNaCl                        1.5.0\n",
      "pyOpenSSL                     23.1.1\n",
      "pyparsing                     3.0.9\n",
      "PyQt5                         5.15.7\n",
      "PyQt5-sip                     12.11.0\n",
      "pyrsistent                    0.19.3\n",
      "PySocks                       1.7.1\n",
      "python-dateutil               2.8.2\n",
      "pytz                          2023.3\n",
      "PyYAML                        5.4.1\n",
      "pyzmq                         25.0.2\n",
      "requests                      2.28.2\n",
      "retrying                      1.3.4\n",
      "rich                          12.6.0\n",
      "rsa                           4.7.2\n",
      "ruamel.yaml                   0.17.21\n",
      "ruamel.yaml.clib              0.2.7\n",
      "s3fs                          0.4.2\n",
      "s3transfer                    0.6.1\n",
      "sagemaker                     2.154.0\n",
      "sagemaker-experiments         0.1.43\n",
      "sagemaker-pytorch-training    2.8.0\n",
      "sagemaker-training            4.5.0\n",
      "schema                        0.7.5\n",
      "scikit-learn                  1.2.2\n",
      "scipy                         1.10.1\n",
      "seaborn                       0.12.2\n",
      "setuptools                    65.6.3\n",
      "shap                          0.41.0\n",
      "shellingham                   1.5.1\n",
      "sip                           6.7.9\n",
      "six                           1.16.0\n",
      "slicer                        0.0.7\n",
      "smart-open                    5.2.1\n",
      "smclarify                     0.5\n",
      "smdebug                       1.0.34\n",
      "smdebug-rulesconfig           1.0.1\n",
      "smdistributed-dataparallel    1.8.0\n",
      "smdistributed-modelparallel   1.15.0\n",
      "spacy                         3.5.2\n",
      "spacy-legacy                  3.0.12\n",
      "spacy-loggers                 1.0.4\n",
      "srsly                         2.4.6\n",
      "stack-data                    0.6.2\n",
      "statsmodels                   0.14.0\n",
      "sympy                         1.11.1\n",
      "tabulate                      0.9.0\n",
      "tblib                         1.7.0\n",
      "tenacity                      8.2.2\n",
      "thinc                         8.1.10\n",
      "threadpoolctl                 3.1.0\n",
      "toml                          0.10.2\n",
      "tomli                         2.0.1\n",
      "toolz                         0.12.0\n",
      "torch                         2.0.0\n",
      "torchaudio                    2.0.1\n",
      "torchdata                     0.6.0\n",
      "torchnet                      0.0.4\n",
      "torchtext                     0.15.1\n",
      "torchvision                   0.15.1\n",
      "tornado                       6.3\n",
      "tqdm                          4.65.0\n",
      "traitlets                     5.9.0\n",
      "triton                        2.0.0.dev20221202\n",
      "typer                         0.7.0\n",
      "typing_extensions             4.5.0\n",
      "tzdata                        2023.3\n",
      "unicodedata2                  15.0.0\n",
      "urllib3                       1.26.15\n",
      "visdom                        0.2.4\n",
      "wasabi                        1.1.1\n",
      "wcwidth                       0.2.6\n",
      "websocket-client              1.5.1\n",
      "Werkzeug                      2.3.4\n",
      "wheel                         0.40.0\n",
      "xyzservices                   2023.2.0\n",
      "zipp                          3.15.0\n",
      "zope.event                    4.6\n",
      "zope.interface                6.0\n",
      "zstandard                     0.19.0\n",
      "\n",
      "\u001b[1m[\u001b[0m\u001b[34;49mnotice\u001b[0m\u001b[1;39;49m]\u001b[0m\u001b[39;49m A new release of pip is available: \u001b[0m\u001b[31;49m23.1.2\u001b[0m\u001b[39;49m -> \u001b[0m\u001b[32;49m23.3.1\u001b[0m\n",
      "\u001b[1m[\u001b[0m\u001b[34;49mnotice\u001b[0m\u001b[1;39;49m]\u001b[0m\u001b[39;49m To update, run: \u001b[0m\u001b[32;49mpip install --upgrade pip\u001b[0m\n"
     ]
    }
   ],
   "source": [
    "!pip list"
   ]
  },
  {
   "cell_type": "code",
   "execution_count": 4,
   "id": "d4d9274e-d828-4e12-8cb8-89f177a8388b",
   "metadata": {
    "tags": []
   },
   "outputs": [
    {
     "name": "stdout",
     "output_type": "stream",
     "text": [
      "19\n"
     ]
    }
   ],
   "source": [
    "print(10+9)"
   ]
  },
  {
   "cell_type": "code",
   "execution_count": 5,
   "id": "35dea476-3b15-425a-9aae-fe7d240dbfb9",
   "metadata": {
    "tags": []
   },
   "outputs": [
    {
     "name": "stdout",
     "output_type": "stream",
     "text": [
      "1\n",
      "2\n",
      "3\n",
      "4\n",
      "5\n"
     ]
    }
   ],
   "source": [
    "array = [1, 2, 3, 4, 5]\n",
    "for x in array:\n",
    "    print(x)"
   ]
  },
  {
   "cell_type": "code",
   "execution_count": 6,
   "id": "866223aa-1e8e-49b5-8c38-f15908072ed5",
   "metadata": {
    "tags": []
   },
   "outputs": [
    {
     "data": {
      "text/plain": [
       "array([[0.18614194, 0.41247806, 0.57696424, 0.41423548],\n",
       "       [0.0714406 , 0.75530898, 0.11636317, 0.24420921],\n",
       "       [0.5618825 , 0.10528516, 0.28412691, 0.29503223]])"
      ]
     },
     "execution_count": 6,
     "metadata": {},
     "output_type": "execute_result"
    }
   ],
   "source": [
    "np1 = np.random.rand(3,4)\n",
    "np1"
   ]
  },
  {
   "cell_type": "code",
   "execution_count": 7,
   "id": "99b37cfc-054d-45f9-bef8-a1ef03677d81",
   "metadata": {
    "tags": []
   },
   "outputs": [
    {
     "data": {
      "text/plain": [
       "tensor([[ 0.2109,  0.0659, -0.7484,  0.5497],\n",
       "        [-2.5362, -0.4813,  1.1317, -0.9399],\n",
       "        [ 1.2304, -0.7093,  0.1974,  0.2166]])"
      ]
     },
     "execution_count": 7,
     "metadata": {},
     "output_type": "execute_result"
    }
   ],
   "source": [
    "tensor = torch.randn(3,4)\n",
    "tensor"
   ]
  },
  {
   "cell_type": "code",
   "execution_count": 8,
   "id": "b12096a8-5c80-4674-9f95-3d7e35847ea1",
   "metadata": {
    "tags": []
   },
   "outputs": [
    {
     "data": {
      "text/plain": [
       "tensor([[[-0.4517, -0.1662,  1.5339],\n",
       "         [ 0.7881, -1.6814,  0.3990],\n",
       "         [-1.4395, -0.8763, -0.3223]],\n",
       "\n",
       "        [[-0.7574,  1.4149, -0.3431],\n",
       "         [-0.0038,  1.2702, -2.2689],\n",
       "         [ 0.7266,  1.4402, -1.9230]],\n",
       "\n",
       "        [[-2.1525,  1.7584,  0.8026],\n",
       "         [ 0.8081,  0.6686, -0.6392],\n",
       "         [ 0.1558,  0.5599,  0.3573]]])"
      ]
     },
     "execution_count": 8,
     "metadata": {},
     "output_type": "execute_result"
    }
   ],
   "source": [
    "tensor2 = torch.randn(3,3,3)\n",
    "tensor2"
   ]
  },
  {
   "cell_type": "code",
   "execution_count": 9,
   "id": "b30d9d5f-3857-428f-af5b-f7585ab07d21",
   "metadata": {
    "tags": []
   },
   "outputs": [
    {
     "data": {
      "text/plain": [
       "tensor([[[[ 1.0384, -0.8245, -1.0357, -0.6376],\n",
       "          [ 0.4788,  1.4461, -1.9388, -2.2681],\n",
       "          [ 1.9139,  0.6232, -1.3186, -0.3668]],\n",
       "\n",
       "         [[ 0.0814, -2.0384, -0.0164,  1.5552],\n",
       "          [-0.3366,  0.1558,  0.1634,  0.0748],\n",
       "          [ 0.1774, -0.4104,  1.1045, -0.6650]]],\n",
       "\n",
       "\n",
       "        [[[-0.4685, -0.1852, -0.1591, -0.0870],\n",
       "          [-0.8467,  0.3249,  0.7376, -0.9643],\n",
       "          [-0.8953, -0.2422,  0.3924,  0.7796]],\n",
       "\n",
       "         [[ 0.9754,  1.0364,  1.0395, -1.7534],\n",
       "          [ 1.3289, -0.7180,  1.7098, -0.0557],\n",
       "          [ 1.5068, -0.0550,  1.0715,  0.5306]]]])"
      ]
     },
     "execution_count": 9,
     "metadata": {},
     "output_type": "execute_result"
    }
   ],
   "source": [
    "tensor_4d = torch.randn(2,2,3,4)\n",
    "tensor_4d"
   ]
  },
  {
   "cell_type": "code",
   "execution_count": 10,
   "id": "e3a030cb-9d89-444b-9687-d60231d6a060",
   "metadata": {
    "tags": []
   },
   "outputs": [
    {
     "data": {
      "text/plain": [
       "tensor([[0.1861, 0.4125, 0.5770, 0.4142],\n",
       "        [0.0714, 0.7553, 0.1164, 0.2442],\n",
       "        [0.5619, 0.1053, 0.2841, 0.2950]], dtype=torch.float64)"
      ]
     },
     "execution_count": 10,
     "metadata": {},
     "output_type": "execute_result"
    }
   ],
   "source": [
    "## Tensor to np array\n",
    "new_tensor = torch.tensor(np1)\n",
    "new_tensor"
   ]
  },
  {
   "cell_type": "code",
   "execution_count": 11,
   "id": "f3209e4f-3156-4e66-afa1-03a60fccef33",
   "metadata": {
    "tags": []
   },
   "outputs": [
    {
     "data": {
      "text/plain": [
       "tensor([ 5,  4,  8, 10])"
      ]
     },
     "execution_count": 11,
     "metadata": {},
     "output_type": "execute_result"
    }
   ],
   "source": [
    "tensor_a = torch.tensor([1,2,3,4])\n",
    "tensor_b = torch.tensor([4,2,5,6])\n",
    "tensor_a + tensor_b"
   ]
  },
  {
   "cell_type": "code",
   "execution_count": 12,
   "id": "1eb29b40-d961-4c8e-b273-fdac44c04c06",
   "metadata": {
    "tags": []
   },
   "outputs": [
    {
     "data": {
      "text/plain": [
       "tensor([ 4,  4, 15, 24])"
      ]
     },
     "execution_count": 12,
     "metadata": {},
     "output_type": "execute_result"
    }
   ],
   "source": [
    "tensor_a * tensor_b"
   ]
  },
  {
   "cell_type": "code",
   "execution_count": 13,
   "id": "980065a9-ed1f-42ba-883f-f1f4221e2657",
   "metadata": {
    "tags": []
   },
   "outputs": [
    {
     "data": {
      "text/plain": [
       "tensor([   1,    4,  243, 4096])"
      ]
     },
     "execution_count": 13,
     "metadata": {},
     "output_type": "execute_result"
    }
   ],
   "source": [
    "tensor_a ** tensor_b"
   ]
  },
  {
   "cell_type": "code",
   "execution_count": 14,
   "id": "fb1b4b02-8a78-4593-aa4d-e77f4b28c40d",
   "metadata": {
    "tags": []
   },
   "outputs": [
    {
     "data": {
      "text/plain": [
       "tensor([-3,  0, -2, -2])"
      ]
     },
     "execution_count": 14,
     "metadata": {},
     "output_type": "execute_result"
    }
   ],
   "source": [
    "tensor_a - tensor_b"
   ]
  },
  {
   "cell_type": "code",
   "execution_count": null,
   "id": "ea0851f2-a1d8-4cbb-89b3-4a76555a34a7",
   "metadata": {},
   "outputs": [],
   "source": []
  }
 ],
 "metadata": {
  "availableInstances": [
   {
    "_defaultOrder": 0,
    "_isFastLaunch": true,
    "category": "General purpose",
    "gpuNum": 0,
    "hideHardwareSpecs": false,
    "memoryGiB": 4,
    "name": "ml.t3.medium",
    "vcpuNum": 2
   },
   {
    "_defaultOrder": 1,
    "_isFastLaunch": false,
    "category": "General purpose",
    "gpuNum": 0,
    "hideHardwareSpecs": false,
    "memoryGiB": 8,
    "name": "ml.t3.large",
    "vcpuNum": 2
   },
   {
    "_defaultOrder": 2,
    "_isFastLaunch": false,
    "category": "General purpose",
    "gpuNum": 0,
    "hideHardwareSpecs": false,
    "memoryGiB": 16,
    "name": "ml.t3.xlarge",
    "vcpuNum": 4
   },
   {
    "_defaultOrder": 3,
    "_isFastLaunch": false,
    "category": "General purpose",
    "gpuNum": 0,
    "hideHardwareSpecs": false,
    "memoryGiB": 32,
    "name": "ml.t3.2xlarge",
    "vcpuNum": 8
   },
   {
    "_defaultOrder": 4,
    "_isFastLaunch": true,
    "category": "General purpose",
    "gpuNum": 0,
    "hideHardwareSpecs": false,
    "memoryGiB": 8,
    "name": "ml.m5.large",
    "vcpuNum": 2
   },
   {
    "_defaultOrder": 5,
    "_isFastLaunch": false,
    "category": "General purpose",
    "gpuNum": 0,
    "hideHardwareSpecs": false,
    "memoryGiB": 16,
    "name": "ml.m5.xlarge",
    "vcpuNum": 4
   },
   {
    "_defaultOrder": 6,
    "_isFastLaunch": false,
    "category": "General purpose",
    "gpuNum": 0,
    "hideHardwareSpecs": false,
    "memoryGiB": 32,
    "name": "ml.m5.2xlarge",
    "vcpuNum": 8
   },
   {
    "_defaultOrder": 7,
    "_isFastLaunch": false,
    "category": "General purpose",
    "gpuNum": 0,
    "hideHardwareSpecs": false,
    "memoryGiB": 64,
    "name": "ml.m5.4xlarge",
    "vcpuNum": 16
   },
   {
    "_defaultOrder": 8,
    "_isFastLaunch": false,
    "category": "General purpose",
    "gpuNum": 0,
    "hideHardwareSpecs": false,
    "memoryGiB": 128,
    "name": "ml.m5.8xlarge",
    "vcpuNum": 32
   },
   {
    "_defaultOrder": 9,
    "_isFastLaunch": false,
    "category": "General purpose",
    "gpuNum": 0,
    "hideHardwareSpecs": false,
    "memoryGiB": 192,
    "name": "ml.m5.12xlarge",
    "vcpuNum": 48
   },
   {
    "_defaultOrder": 10,
    "_isFastLaunch": false,
    "category": "General purpose",
    "gpuNum": 0,
    "hideHardwareSpecs": false,
    "memoryGiB": 256,
    "name": "ml.m5.16xlarge",
    "vcpuNum": 64
   },
   {
    "_defaultOrder": 11,
    "_isFastLaunch": false,
    "category": "General purpose",
    "gpuNum": 0,
    "hideHardwareSpecs": false,
    "memoryGiB": 384,
    "name": "ml.m5.24xlarge",
    "vcpuNum": 96
   },
   {
    "_defaultOrder": 12,
    "_isFastLaunch": false,
    "category": "General purpose",
    "gpuNum": 0,
    "hideHardwareSpecs": false,
    "memoryGiB": 8,
    "name": "ml.m5d.large",
    "vcpuNum": 2
   },
   {
    "_defaultOrder": 13,
    "_isFastLaunch": false,
    "category": "General purpose",
    "gpuNum": 0,
    "hideHardwareSpecs": false,
    "memoryGiB": 16,
    "name": "ml.m5d.xlarge",
    "vcpuNum": 4
   },
   {
    "_defaultOrder": 14,
    "_isFastLaunch": false,
    "category": "General purpose",
    "gpuNum": 0,
    "hideHardwareSpecs": false,
    "memoryGiB": 32,
    "name": "ml.m5d.2xlarge",
    "vcpuNum": 8
   },
   {
    "_defaultOrder": 15,
    "_isFastLaunch": false,
    "category": "General purpose",
    "gpuNum": 0,
    "hideHardwareSpecs": false,
    "memoryGiB": 64,
    "name": "ml.m5d.4xlarge",
    "vcpuNum": 16
   },
   {
    "_defaultOrder": 16,
    "_isFastLaunch": false,
    "category": "General purpose",
    "gpuNum": 0,
    "hideHardwareSpecs": false,
    "memoryGiB": 128,
    "name": "ml.m5d.8xlarge",
    "vcpuNum": 32
   },
   {
    "_defaultOrder": 17,
    "_isFastLaunch": false,
    "category": "General purpose",
    "gpuNum": 0,
    "hideHardwareSpecs": false,
    "memoryGiB": 192,
    "name": "ml.m5d.12xlarge",
    "vcpuNum": 48
   },
   {
    "_defaultOrder": 18,
    "_isFastLaunch": false,
    "category": "General purpose",
    "gpuNum": 0,
    "hideHardwareSpecs": false,
    "memoryGiB": 256,
    "name": "ml.m5d.16xlarge",
    "vcpuNum": 64
   },
   {
    "_defaultOrder": 19,
    "_isFastLaunch": false,
    "category": "General purpose",
    "gpuNum": 0,
    "hideHardwareSpecs": false,
    "memoryGiB": 384,
    "name": "ml.m5d.24xlarge",
    "vcpuNum": 96
   },
   {
    "_defaultOrder": 20,
    "_isFastLaunch": false,
    "category": "General purpose",
    "gpuNum": 0,
    "hideHardwareSpecs": true,
    "memoryGiB": 0,
    "name": "ml.geospatial.interactive",
    "supportedImageNames": [
     "sagemaker-geospatial-v1-0"
    ],
    "vcpuNum": 0
   },
   {
    "_defaultOrder": 21,
    "_isFastLaunch": true,
    "category": "Compute optimized",
    "gpuNum": 0,
    "hideHardwareSpecs": false,
    "memoryGiB": 4,
    "name": "ml.c5.large",
    "vcpuNum": 2
   },
   {
    "_defaultOrder": 22,
    "_isFastLaunch": false,
    "category": "Compute optimized",
    "gpuNum": 0,
    "hideHardwareSpecs": false,
    "memoryGiB": 8,
    "name": "ml.c5.xlarge",
    "vcpuNum": 4
   },
   {
    "_defaultOrder": 23,
    "_isFastLaunch": false,
    "category": "Compute optimized",
    "gpuNum": 0,
    "hideHardwareSpecs": false,
    "memoryGiB": 16,
    "name": "ml.c5.2xlarge",
    "vcpuNum": 8
   },
   {
    "_defaultOrder": 24,
    "_isFastLaunch": false,
    "category": "Compute optimized",
    "gpuNum": 0,
    "hideHardwareSpecs": false,
    "memoryGiB": 32,
    "name": "ml.c5.4xlarge",
    "vcpuNum": 16
   },
   {
    "_defaultOrder": 25,
    "_isFastLaunch": false,
    "category": "Compute optimized",
    "gpuNum": 0,
    "hideHardwareSpecs": false,
    "memoryGiB": 72,
    "name": "ml.c5.9xlarge",
    "vcpuNum": 36
   },
   {
    "_defaultOrder": 26,
    "_isFastLaunch": false,
    "category": "Compute optimized",
    "gpuNum": 0,
    "hideHardwareSpecs": false,
    "memoryGiB": 96,
    "name": "ml.c5.12xlarge",
    "vcpuNum": 48
   },
   {
    "_defaultOrder": 27,
    "_isFastLaunch": false,
    "category": "Compute optimized",
    "gpuNum": 0,
    "hideHardwareSpecs": false,
    "memoryGiB": 144,
    "name": "ml.c5.18xlarge",
    "vcpuNum": 72
   },
   {
    "_defaultOrder": 28,
    "_isFastLaunch": false,
    "category": "Compute optimized",
    "gpuNum": 0,
    "hideHardwareSpecs": false,
    "memoryGiB": 192,
    "name": "ml.c5.24xlarge",
    "vcpuNum": 96
   },
   {
    "_defaultOrder": 29,
    "_isFastLaunch": true,
    "category": "Accelerated computing",
    "gpuNum": 1,
    "hideHardwareSpecs": false,
    "memoryGiB": 16,
    "name": "ml.g4dn.xlarge",
    "vcpuNum": 4
   },
   {
    "_defaultOrder": 30,
    "_isFastLaunch": false,
    "category": "Accelerated computing",
    "gpuNum": 1,
    "hideHardwareSpecs": false,
    "memoryGiB": 32,
    "name": "ml.g4dn.2xlarge",
    "vcpuNum": 8
   },
   {
    "_defaultOrder": 31,
    "_isFastLaunch": false,
    "category": "Accelerated computing",
    "gpuNum": 1,
    "hideHardwareSpecs": false,
    "memoryGiB": 64,
    "name": "ml.g4dn.4xlarge",
    "vcpuNum": 16
   },
   {
    "_defaultOrder": 32,
    "_isFastLaunch": false,
    "category": "Accelerated computing",
    "gpuNum": 1,
    "hideHardwareSpecs": false,
    "memoryGiB": 128,
    "name": "ml.g4dn.8xlarge",
    "vcpuNum": 32
   },
   {
    "_defaultOrder": 33,
    "_isFastLaunch": false,
    "category": "Accelerated computing",
    "gpuNum": 4,
    "hideHardwareSpecs": false,
    "memoryGiB": 192,
    "name": "ml.g4dn.12xlarge",
    "vcpuNum": 48
   },
   {
    "_defaultOrder": 34,
    "_isFastLaunch": false,
    "category": "Accelerated computing",
    "gpuNum": 1,
    "hideHardwareSpecs": false,
    "memoryGiB": 256,
    "name": "ml.g4dn.16xlarge",
    "vcpuNum": 64
   },
   {
    "_defaultOrder": 35,
    "_isFastLaunch": false,
    "category": "Accelerated computing",
    "gpuNum": 1,
    "hideHardwareSpecs": false,
    "memoryGiB": 61,
    "name": "ml.p3.2xlarge",
    "vcpuNum": 8
   },
   {
    "_defaultOrder": 36,
    "_isFastLaunch": false,
    "category": "Accelerated computing",
    "gpuNum": 4,
    "hideHardwareSpecs": false,
    "memoryGiB": 244,
    "name": "ml.p3.8xlarge",
    "vcpuNum": 32
   },
   {
    "_defaultOrder": 37,
    "_isFastLaunch": false,
    "category": "Accelerated computing",
    "gpuNum": 8,
    "hideHardwareSpecs": false,
    "memoryGiB": 488,
    "name": "ml.p3.16xlarge",
    "vcpuNum": 64
   },
   {
    "_defaultOrder": 38,
    "_isFastLaunch": false,
    "category": "Accelerated computing",
    "gpuNum": 8,
    "hideHardwareSpecs": false,
    "memoryGiB": 768,
    "name": "ml.p3dn.24xlarge",
    "vcpuNum": 96
   },
   {
    "_defaultOrder": 39,
    "_isFastLaunch": false,
    "category": "Memory Optimized",
    "gpuNum": 0,
    "hideHardwareSpecs": false,
    "memoryGiB": 16,
    "name": "ml.r5.large",
    "vcpuNum": 2
   },
   {
    "_defaultOrder": 40,
    "_isFastLaunch": false,
    "category": "Memory Optimized",
    "gpuNum": 0,
    "hideHardwareSpecs": false,
    "memoryGiB": 32,
    "name": "ml.r5.xlarge",
    "vcpuNum": 4
   },
   {
    "_defaultOrder": 41,
    "_isFastLaunch": false,
    "category": "Memory Optimized",
    "gpuNum": 0,
    "hideHardwareSpecs": false,
    "memoryGiB": 64,
    "name": "ml.r5.2xlarge",
    "vcpuNum": 8
   },
   {
    "_defaultOrder": 42,
    "_isFastLaunch": false,
    "category": "Memory Optimized",
    "gpuNum": 0,
    "hideHardwareSpecs": false,
    "memoryGiB": 128,
    "name": "ml.r5.4xlarge",
    "vcpuNum": 16
   },
   {
    "_defaultOrder": 43,
    "_isFastLaunch": false,
    "category": "Memory Optimized",
    "gpuNum": 0,
    "hideHardwareSpecs": false,
    "memoryGiB": 256,
    "name": "ml.r5.8xlarge",
    "vcpuNum": 32
   },
   {
    "_defaultOrder": 44,
    "_isFastLaunch": false,
    "category": "Memory Optimized",
    "gpuNum": 0,
    "hideHardwareSpecs": false,
    "memoryGiB": 384,
    "name": "ml.r5.12xlarge",
    "vcpuNum": 48
   },
   {
    "_defaultOrder": 45,
    "_isFastLaunch": false,
    "category": "Memory Optimized",
    "gpuNum": 0,
    "hideHardwareSpecs": false,
    "memoryGiB": 512,
    "name": "ml.r5.16xlarge",
    "vcpuNum": 64
   },
   {
    "_defaultOrder": 46,
    "_isFastLaunch": false,
    "category": "Memory Optimized",
    "gpuNum": 0,
    "hideHardwareSpecs": false,
    "memoryGiB": 768,
    "name": "ml.r5.24xlarge",
    "vcpuNum": 96
   },
   {
    "_defaultOrder": 47,
    "_isFastLaunch": false,
    "category": "Accelerated computing",
    "gpuNum": 1,
    "hideHardwareSpecs": false,
    "memoryGiB": 16,
    "name": "ml.g5.xlarge",
    "vcpuNum": 4
   },
   {
    "_defaultOrder": 48,
    "_isFastLaunch": false,
    "category": "Accelerated computing",
    "gpuNum": 1,
    "hideHardwareSpecs": false,
    "memoryGiB": 32,
    "name": "ml.g5.2xlarge",
    "vcpuNum": 8
   },
   {
    "_defaultOrder": 49,
    "_isFastLaunch": false,
    "category": "Accelerated computing",
    "gpuNum": 1,
    "hideHardwareSpecs": false,
    "memoryGiB": 64,
    "name": "ml.g5.4xlarge",
    "vcpuNum": 16
   },
   {
    "_defaultOrder": 50,
    "_isFastLaunch": false,
    "category": "Accelerated computing",
    "gpuNum": 1,
    "hideHardwareSpecs": false,
    "memoryGiB": 128,
    "name": "ml.g5.8xlarge",
    "vcpuNum": 32
   },
   {
    "_defaultOrder": 51,
    "_isFastLaunch": false,
    "category": "Accelerated computing",
    "gpuNum": 1,
    "hideHardwareSpecs": false,
    "memoryGiB": 256,
    "name": "ml.g5.16xlarge",
    "vcpuNum": 64
   },
   {
    "_defaultOrder": 52,
    "_isFastLaunch": false,
    "category": "Accelerated computing",
    "gpuNum": 4,
    "hideHardwareSpecs": false,
    "memoryGiB": 192,
    "name": "ml.g5.12xlarge",
    "vcpuNum": 48
   },
   {
    "_defaultOrder": 53,
    "_isFastLaunch": false,
    "category": "Accelerated computing",
    "gpuNum": 4,
    "hideHardwareSpecs": false,
    "memoryGiB": 384,
    "name": "ml.g5.24xlarge",
    "vcpuNum": 96
   },
   {
    "_defaultOrder": 54,
    "_isFastLaunch": false,
    "category": "Accelerated computing",
    "gpuNum": 8,
    "hideHardwareSpecs": false,
    "memoryGiB": 768,
    "name": "ml.g5.48xlarge",
    "vcpuNum": 192
   },
   {
    "_defaultOrder": 55,
    "_isFastLaunch": false,
    "category": "Accelerated computing",
    "gpuNum": 8,
    "hideHardwareSpecs": false,
    "memoryGiB": 1152,
    "name": "ml.p4d.24xlarge",
    "vcpuNum": 96
   },
   {
    "_defaultOrder": 56,
    "_isFastLaunch": false,
    "category": "Accelerated computing",
    "gpuNum": 8,
    "hideHardwareSpecs": false,
    "memoryGiB": 1152,
    "name": "ml.p4de.24xlarge",
    "vcpuNum": 96
   }
  ],
  "instance_type": "ml.t3.medium",
  "kernelspec": {
   "display_name": "Python 3 (PyTorch 2.0.0 Python 3.10 GPU Optimized)",
   "language": "python",
   "name": "python3__SAGEMAKER_INTERNAL__arn:aws:sagemaker:us-east-2:429704687514:image/pytorch-2.0.0-gpu-py310"
  },
  "language_info": {
   "codemirror_mode": {
    "name": "ipython",
    "version": 3
   },
   "file_extension": ".py",
   "mimetype": "text/x-python",
   "name": "python",
   "nbconvert_exporter": "python",
   "pygments_lexer": "ipython3",
   "version": "3.10.8"
  }
 },
 "nbformat": 4,
 "nbformat_minor": 5
}
