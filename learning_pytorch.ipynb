{
 "cells": [
  {
   "cell_type": "code",
   "execution_count": 5,
   "id": "9dce5123-e67f-4a5d-aff8-e581e0d59f06",
   "metadata": {
    "tags": []
   },
   "outputs": [],
   "source": [
    "# Imports\n",
    "import numpy as np\n",
    "\n",
    "import torch"
   ]
  },
  {
   "cell_type": "code",
   "execution_count": 1,
   "id": "a533ce0c-c766-4013-9a28-6e42bde5056e",
   "metadata": {
    "tags": []
   },
   "outputs": [
    {
     "name": "stdout",
     "output_type": "stream",
     "text": [
      "Package                       Version\n",
      "----------------------------- --------------\n",
      "aniso8601                     9.0.1\n",
      "annotated-types               0.5.0\n",
      "ansi2html                     1.8.0\n",
      "anyio                         3.7.1\n",
      "argon2-cffi                   21.3.0\n",
      "argon2-cffi-bindings          21.2.0\n",
      "arrow                         1.2.3\n",
      "asttokens                     2.2.1\n",
      "async-lru                     2.0.3\n",
      "attrs                         23.1.0\n",
      "autovizwidget                 0.20.5\n",
      "awscli                        1.29.57\n",
      "Babel                         2.12.1\n",
      "backcall                      0.2.0\n",
      "backports.functools-lru-cache 1.6.5\n",
      "beautifulsoup4                4.12.2\n",
      "bleach                        6.0.0\n",
      "blinker                       1.6.2\n",
      "bokeh                         3.2.0\n",
      "boto3                         1.28.57\n",
      "botocore                      1.31.57\n",
      "brotlipy                      0.7.0\n",
      "captum                        0.6.0\n",
      "certifi                       2023.5.7\n",
      "cffi                          1.15.1\n",
      "charset-normalizer            3.2.0\n",
      "click                         8.1.6\n",
      "cloudpickle                   2.2.1\n",
      "colorama                      0.4.4\n",
      "comm                          0.1.3\n",
      "contextlib2                   21.6.0\n",
      "contourpy                     1.1.0\n",
      "cryptography                  41.0.2\n",
      "cycler                        0.11.0\n",
      "debugpy                       1.6.7\n",
      "decorator                     5.1.1\n",
      "defusedxml                    0.7.1\n",
      "dill                          0.3.6\n",
      "docker                        6.1.3\n",
      "docutils                      0.15.2\n",
      "dparse                        0.6.3\n",
      "entrypoints                   0.4\n",
      "environment-kernels           1.2.0\n",
      "exceptiongroup                1.1.2\n",
      "executing                     1.2.0\n",
      "fastjsonschema                2.17.1\n",
      "filelock                      3.12.2\n",
      "Flask                         2.3.2\n",
      "Flask-RESTful                 0.3.10\n",
      "flit_core                     3.9.0\n",
      "fonttools                     4.41.0\n",
      "fqdn                          1.5.1\n",
      "fsspec                        2023.6.0\n",
      "gmpy2                         2.1.2\n",
      "google-pasta                  0.2.0\n",
      "gssapi                        1.8.2\n",
      "gym                           0.26.2\n",
      "gym-notices                   0.0.8\n",
      "hdijupyterutils               0.20.5\n",
      "horovod                       0.28.1\n",
      "idna                          3.4\n",
      "imageio                       2.31.1\n",
      "importlib-metadata            6.8.0\n",
      "importlib-resources           6.0.0\n",
      "ipykernel                     6.24.0\n",
      "ipython                       8.14.0\n",
      "ipython-genutils              0.2.0\n",
      "ipywidgets                    8.0.7\n",
      "isoduration                   20.11.0\n",
      "itsdangerous                  2.1.2\n",
      "jedi                          0.18.2\n",
      "Jinja2                        3.1.2\n",
      "jmespath                      1.0.1\n",
      "joblib                        1.3.1\n",
      "json5                         0.9.14\n",
      "jsonpointer                   2.4\n",
      "jsonschema                    4.18.4\n",
      "jsonschema-specifications     2023.7.1\n",
      "jupyter                       1.0.0\n",
      "jupyter_client                8.3.0\n",
      "jupyter-console               6.6.3\n",
      "jupyter_core                  5.3.1\n",
      "jupyter-events                0.6.3\n",
      "jupyter-lsp                   2.2.0\n",
      "jupyter_server                2.7.0\n",
      "jupyter_server_terminals      0.4.4\n",
      "jupyterlab                    4.0.3\n",
      "jupyterlab-pygments           0.2.2\n",
      "jupyterlab_server             2.23.0\n",
      "jupyterlab-widgets            3.0.8\n",
      "kiwisolver                    1.4.4\n",
      "krb5                          0.5.0\n",
      "llvmlite                      0.40.1\n",
      "MarkupSafe                    2.1.3\n",
      "matplotlib                    3.7.2\n",
      "matplotlib-inline             0.1.6\n",
      "mistune                       3.0.0\n",
      "mpi4py                        3.1.4\n",
      "mpmath                        1.3.0\n",
      "multiprocess                  0.70.14\n",
      "munkres                       1.1.4\n",
      "nbclassic                     1.0.0\n",
      "nbclient                      0.8.0\n",
      "nbconvert                     7.7.1\n",
      "nbformat                      5.9.1\n",
      "nest-asyncio                  1.5.5\n",
      "networkx                      3.1\n",
      "notebook                      6.5.4\n",
      "notebook_shim                 0.2.3\n",
      "numba                         0.57.1\n",
      "numpy                         1.24.4\n",
      "nvgpu                         0.10.0\n",
      "nvidia-ml-py                  12.535.77\n",
      "onnx                          1.13.1\n",
      "opencv-python                 4.6.0.66\n",
      "overrides                     7.3.1\n",
      "packaging                     21.3\n",
      "pandas                        1.5.3\n",
      "pandocfilters                 1.5.0\n",
      "parso                         0.8.3\n",
      "pathos                        0.3.0\n",
      "patsy                         0.5.3\n",
      "pexpect                       4.8.0\n",
      "pickleshare                   0.7.5\n",
      "Pillow                        10.0.0\n",
      "pip                           23.2\n",
      "pkgutil_resolve_name          1.3.10\n",
      "platformdirs                  3.9.1\n",
      "plotly                        5.15.0\n",
      "pooch                         1.7.0\n",
      "pox                           0.3.2\n",
      "ppft                          1.7.6.6\n",
      "prometheus-client             0.17.1\n",
      "prompt-toolkit                3.0.39\n",
      "protobuf                      4.23.4\n",
      "psutil                        5.9.5\n",
      "ptyprocess                    0.7.0\n",
      "pure-eval                     0.2.2\n",
      "py4j                          0.10.9.5\n",
      "pyarrow                       12.0.1\n",
      "pyasn1                        0.4.8\n",
      "pybind11                      2.11.1\n",
      "pybind11-global               2.11.1\n",
      "pycparser                     2.21\n",
      "pydantic                      2.0.3\n",
      "pydantic_core                 2.3.0\n",
      "pyfunctional                  1.4.3\n",
      "pygame                        2.5.0\n",
      "Pygments                      2.15.1\n",
      "pynvml                        11.5.0\n",
      "pyOpenSSL                     23.2.0\n",
      "pyparsing                     3.0.9\n",
      "PySocks                       1.7.1\n",
      "pyspark                       3.3.0\n",
      "pyspnego                      0.9.1\n",
      "python-dateutil               2.8.2\n",
      "python-json-logger            2.0.7\n",
      "pytz                          2023.3\n",
      "PyYAML                        6.0\n",
      "pyzmq                         25.1.0\n",
      "qtconsole                     5.4.3\n",
      "QtPy                          2.3.1\n",
      "referencing                   0.30.0\n",
      "requests                      2.31.0\n",
      "requests-kerberos             0.14.0\n",
      "rfc3339-validator             0.1.4\n",
      "rfc3986-validator             0.1.1\n",
      "rpds-py                       0.9.2\n",
      "rsa                           4.7.2\n",
      "ruamel.yaml                   0.17.32\n",
      "ruamel.yaml.clib              0.2.7\n",
      "s3fs                          0.4.2\n",
      "s3transfer                    0.7.0\n",
      "sagemaker                     2.188.0\n",
      "sagemaker-pyspark             1.4.5\n",
      "schema                        0.7.5\n",
      "scikit-learn                  1.3.0\n",
      "scipy                         1.11.1\n",
      "seaborn                       0.12.2\n",
      "Send2Trash                    1.8.2\n",
      "setuptools                    68.0.0\n",
      "shap                          0.40.0\n",
      "six                           1.16.0\n",
      "slicer                        0.0.7\n",
      "smclarify                     0.5\n",
      "smdebug-rulesconfig           1.0.1\n",
      "sniffio                       1.3.0\n",
      "soupsieve                     2.3.2.post1\n",
      "sparkmagic                    0.20.5\n",
      "stack-data                    0.6.2\n",
      "statsmodels                   0.14.0\n",
      "sympy                         1.12\n",
      "tabulate                      0.9.0\n",
      "tblib                         1.7.0\n",
      "tenacity                      8.2.2\n",
      "termcolor                     2.3.0\n",
      "terminado                     0.17.1\n",
      "threadpoolctl                 3.2.0\n",
      "tinycss2                      1.2.1\n",
      "tomli                         2.0.1\n",
      "torch                         2.0.1\n",
      "torch-model-archiver          0.7.1b20230208\n",
      "torch-workflow-archiver       0.2.9b20230614\n",
      "torchaudio                    2.0.2\n",
      "torchdata                     0.6.1\n",
      "torchserve                    0.7.1b20230208\n",
      "torchtext                     0.15.2\n",
      "torchvision                   0.15.2\n",
      "tornado                       6.3.2\n",
      "tqdm                          4.65.0\n",
      "traitlets                     5.9.0\n",
      "triton                        2.0.0\n",
      "typing_extensions             4.7.1\n",
      "typing-utils                  0.1.0\n",
      "tzdata                        2023.3\n",
      "ujson                         5.8.0\n",
      "unicodedata2                  15.0.0\n",
      "uri-template                  1.3.0\n",
      "urllib3                       1.26.14\n",
      "wcwidth                       0.2.6\n",
      "webcolors                     1.13\n",
      "webencodings                  0.5.1\n",
      "websocket-client              1.6.1\n",
      "Werkzeug                      2.3.6\n",
      "wheel                         0.40.0\n",
      "widgetsnbextension            4.0.8\n",
      "xyzservices                   2023.7.0\n",
      "zipp                          3.16.2\n"
     ]
    }
   ],
   "source": [
    "!pip list"
   ]
  },
  {
   "cell_type": "code",
   "execution_count": 2,
   "id": "d4d9274e-d828-4e12-8cb8-89f177a8388b",
   "metadata": {
    "tags": []
   },
   "outputs": [
    {
     "name": "stdout",
     "output_type": "stream",
     "text": [
      "19\n"
     ]
    }
   ],
   "source": [
    "print(10+9)"
   ]
  },
  {
   "cell_type": "code",
   "execution_count": 3,
   "id": "35dea476-3b15-425a-9aae-fe7d240dbfb9",
   "metadata": {
    "tags": []
   },
   "outputs": [
    {
     "name": "stdout",
     "output_type": "stream",
     "text": [
      "1\n",
      "2\n",
      "3\n",
      "4\n",
      "5\n"
     ]
    }
   ],
   "source": [
    "array = [1, 2, 3, 4, 5]\n",
    "for x in array:\n",
    "    print(x)"
   ]
  },
  {
   "cell_type": "code",
   "execution_count": 6,
   "id": "866223aa-1e8e-49b5-8c38-f15908072ed5",
   "metadata": {
    "tags": []
   },
   "outputs": [
    {
     "data": {
      "text/plain": [
       "array([[0.75451363, 0.67858889, 0.92800889, 0.36767635],\n",
       "       [0.72106558, 0.07847357, 0.81015103, 0.88420425],\n",
       "       [0.36424483, 0.60904593, 0.32420302, 0.53130513]])"
      ]
     },
     "execution_count": 6,
     "metadata": {},
     "output_type": "execute_result"
    }
   ],
   "source": [
    "np1 = np.random.rand(3,4)\n",
    "np1"
   ]
  },
  {
   "cell_type": "code",
   "execution_count": 8,
   "id": "99b37cfc-054d-45f9-bef8-a1ef03677d81",
   "metadata": {
    "tags": []
   },
   "outputs": [
    {
     "data": {
      "text/plain": [
       "tensor([[ 0.4717,  0.1492, -0.8408, -0.0052],\n",
       "        [ 1.1175, -1.1857,  0.2676, -2.1607],\n",
       "        [ 0.2193, -2.3990,  0.3523,  0.9011]])"
      ]
     },
     "execution_count": 8,
     "metadata": {},
     "output_type": "execute_result"
    }
   ],
   "source": [
    "tensor = torch.randn(3,4)\n",
    "tensor"
   ]
  },
  {
   "cell_type": "code",
   "execution_count": 9,
   "id": "b12096a8-5c80-4674-9f95-3d7e35847ea1",
   "metadata": {
    "tags": []
   },
   "outputs": [
    {
     "data": {
      "text/plain": [
       "tensor([[[-0.3127,  0.4009, -0.2273],\n",
       "         [ 0.3512, -0.1375,  0.5317],\n",
       "         [ 0.4634,  1.9093, -2.3388]],\n",
       "\n",
       "        [[-0.2794,  2.1255,  1.6184],\n",
       "         [-0.7120, -0.0192,  1.0723],\n",
       "         [-1.5357, -0.2943, -0.1448]],\n",
       "\n",
       "        [[ 1.5144,  2.6804, -0.4837],\n",
       "         [ 0.3521,  2.2689,  2.9724],\n",
       "         [ 0.4969,  0.8842,  0.9685]]])"
      ]
     },
     "execution_count": 9,
     "metadata": {},
     "output_type": "execute_result"
    }
   ],
   "source": [
    "tensor2 = torch.randn(3,3,3)\n",
    "tensor2"
   ]
  },
  {
   "cell_type": "code",
   "execution_count": 12,
   "id": "b30d9d5f-3857-428f-af5b-f7585ab07d21",
   "metadata": {
    "tags": []
   },
   "outputs": [
    {
     "data": {
      "text/plain": [
       "tensor([[[[ 1.3266, -0.3601, -1.1422,  0.0149],\n",
       "          [-0.8762, -0.2616, -0.2876,  0.1883],\n",
       "          [-1.0328, -1.4551,  0.0305,  2.2737]],\n",
       "\n",
       "         [[-0.3208,  1.4371, -0.5297,  0.3334],\n",
       "          [-1.1867, -0.0660,  0.0941,  1.3703],\n",
       "          [-0.3564,  0.9125,  1.2219,  0.7449]]],\n",
       "\n",
       "\n",
       "        [[[-0.0832,  1.5174,  2.3801, -1.1844],\n",
       "          [ 0.7154,  1.0968,  0.3924, -0.7341],\n",
       "          [ 1.0092,  1.2401, -0.8148,  0.0200]],\n",
       "\n",
       "         [[-1.9072,  1.2414,  1.6349,  1.1941],\n",
       "          [ 0.0583,  0.4339,  1.1565,  0.4238],\n",
       "          [ 0.3498,  0.4551, -1.4253, -1.3112]]]])"
      ]
     },
     "execution_count": 12,
     "metadata": {},
     "output_type": "execute_result"
    }
   ],
   "source": [
    "tensor_4d = torch.randn(2,2,3,4)\n",
    "tensor_4d"
   ]
  },
  {
   "cell_type": "code",
   "execution_count": 13,
   "id": "e3a030cb-9d89-444b-9687-d60231d6a060",
   "metadata": {
    "tags": []
   },
   "outputs": [
    {
     "data": {
      "text/plain": [
       "tensor([[0.7545, 0.6786, 0.9280, 0.3677],\n",
       "        [0.7211, 0.0785, 0.8102, 0.8842],\n",
       "        [0.3642, 0.6090, 0.3242, 0.5313]], dtype=torch.float64)"
      ]
     },
     "execution_count": 13,
     "metadata": {},
     "output_type": "execute_result"
    }
   ],
   "source": [
    "## Tensor to np array\n",
    "new_tensor = torch.tensor(np1)\n",
    "new_tensor"
   ]
  },
  {
   "cell_type": "code",
   "execution_count": null,
   "id": "f3209e4f-3156-4e66-afa1-03a60fccef33",
   "metadata": {},
   "outputs": [],
   "source": []
  }
 ],
 "metadata": {
  "kernelspec": {
   "display_name": "conda_pytorch_p310",
   "language": "python",
   "name": "conda_pytorch_p310"
  },
  "language_info": {
   "codemirror_mode": {
    "name": "ipython",
    "version": 3
   },
   "file_extension": ".py",
   "mimetype": "text/x-python",
   "name": "python",
   "nbconvert_exporter": "python",
   "pygments_lexer": "ipython3",
   "version": "3.10.12"
  }
 },
 "nbformat": 4,
 "nbformat_minor": 5
}
